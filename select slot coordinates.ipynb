{
 "cells": [
  {
   "cell_type": "code",
   "execution_count": 12,
   "id": "6791811b",
   "metadata": {},
   "outputs": [],
   "source": [
    "import cv2"
   ]
  },
  {
   "cell_type": "code",
   "execution_count": 13,
   "id": "6fb5e198",
   "metadata": {},
   "outputs": [
    {
     "name": "stdout",
     "output_type": "stream",
     "text": [
      "[INFO] Loading parking lot image ...\n"
     ]
    }
   ],
   "source": [
    "print(\"[INFO] Loading parking lot image ...\")\n",
    "\n",
    "image = \"parking_lot.png\"\n",
    "\n",
    "image = cv2.imread(image)"
   ]
  },
  {
   "cell_type": "code",
   "execution_count": 8,
   "id": "695db94f",
   "metadata": {},
   "outputs": [
    {
     "name": "stdout",
     "output_type": "stream",
     "text": [
      "[INFO] Parking lot image loaded successfully!\n",
      "[INFO] Click and drag to draw parking area. Press SPACE to save after each area\n"
     ]
    }
   ],
   "source": [
    "file = open(\"slot_coordinates.txt\",\"r+\")\n",
    "\n",
    "file.truncate(0)\n",
    "\n",
    "file.close()\n",
    "\n",
    "print(\"[INFO] Parking lot image loaded successfully!\")\n",
    "    \n",
    "print(\"[INFO] Click all corners to draw parking area. Press SPACE to save after each area\")\n"
   ]
  },
  {
   "cell_type": "code",
   "execution_count": 14,
   "id": "cefeaf78",
   "metadata": {},
   "outputs": [],
   "source": [
    "points=[]\n",
    "def mouse_callback(event, x, y, flags, param):\n",
    "    \n",
    "    if event == cv2.EVENT_LBUTTONDOWN:\n",
    "        points.append(x)\n",
    "        points.append(y)"
   ]
  },
  {
   "cell_type": "code",
   "execution_count": 17,
   "id": "c7e228a0",
   "metadata": {},
   "outputs": [
    {
     "name": "stdout",
     "output_type": "stream",
     "text": [
      "[INFO] SPACE pressed! New parking area saved.\n",
      "[INFO] Number of parking lots: 1\n",
      "[INFO] SPACE pressed! New parking area saved.\n",
      "[INFO] Number of parking lots: 2\n",
      "[INFO] SPACE pressed! New parking area saved.\n",
      "[INFO] Number of parking lots: 3\n",
      "[INFO] SPACE pressed! New parking area saved.\n",
      "[INFO] Number of parking lots: 4\n",
      "[INFO] SPACE pressed! New parking area saved.\n",
      "[INFO] Number of parking lots: 5\n",
      "[INFO] SPACE pressed! New parking area saved.\n",
      "[INFO] Number of parking lots: 6\n",
      "[INFO] SPACE pressed! New parking area saved.\n",
      "[INFO] Number of parking lots: 7\n",
      "[INFO] SPACE pressed! New parking area saved.\n",
      "[INFO] Number of parking lots: 8\n",
      "[INFO] SPACE pressed! New parking area saved.\n",
      "[INFO] Number of parking lots: 9\n",
      "[INFO] SPACE pressed! New parking area saved.\n",
      "[INFO] Number of parking lots: 10\n",
      "[INFO] SPACE pressed! New parking area saved.\n",
      "[INFO] Number of parking lots: 11\n",
      "[INFO] SPACE pressed! New parking area saved.\n",
      "[INFO] Number of parking lots: 12\n",
      "[INFO] SPACE pressed! New parking area saved.\n",
      "[INFO] Number of parking lots: 13\n",
      "[INFO] SPACE pressed! New parking area saved.\n",
      "[INFO] Number of parking lots: 14\n",
      "[INFO] SPACE pressed! New parking area saved.\n",
      "[INFO] Number of parking lots: 15\n",
      "[INFO] SPACE pressed! New parking area saved.\n",
      "[INFO] Number of parking lots: 16\n",
      "[INFO] SPACE pressed! New parking area saved.\n",
      "[INFO] Number of parking lots: 17\n",
      "[INFO] Exit drawing parking area.\n"
     ]
    }
   ],
   "source": [
    "parking_lot = 0\n",
    "cv2.namedWindow(\"Parking area\")\n",
    "while True:\n",
    "    image = cv2.resize(image, (1300,650), interpolation=cv2.INTER_AREA)\n",
    "    cv2.imshow(\"Parking area\", image)\n",
    "    \n",
    "    cv2.setMouseCallback(\"Parking area\", mouse_callback)\n",
    "    \n",
    "    if cv2.waitKey(5) == 32:\n",
    "\n",
    "        parking_lot += 1\n",
    "        \n",
    "        print(\"[INFO] SPACE pressed! New parking area saved.\")\n",
    "\n",
    "        print(\"[INFO] Number of parking lots: {}\".format(parking_lot))\n",
    "        \n",
    "        \n",
    "        with open('slot_coordinates.txt', 'a') as file:\n",
    "            \n",
    "            file.write(\"{} {} {} {} {} {} {} {}\\n\". format(points[0],points[1],points[2],points[3],points[4],points[5],points[6],points[7]))\n",
    "            points.clear()\n",
    "        continue\n",
    "    \n",
    "    if cv2.waitKey(5) == 27:\n",
    "        \n",
    "        print(\"[INFO] Exit drawing parking area.\")\n",
    "        \n",
    "        break\n",
    "    \n",
    "cv2.destroyAllWindows()"
   ]
  },
  {
   "cell_type": "code",
   "execution_count": null,
   "id": "9a56496e",
   "metadata": {},
   "outputs": [],
   "source": []
  }
 ],
 "metadata": {
  "kernelspec": {
   "display_name": "Python 3 (ipykernel)",
   "language": "python",
   "name": "python3"
  },
  "language_info": {
   "codemirror_mode": {
    "name": "ipython",
    "version": 3
   },
   "file_extension": ".py",
   "mimetype": "text/x-python",
   "name": "python",
   "nbconvert_exporter": "python",
   "pygments_lexer": "ipython3",
   "version": "3.9.13"
  }
 },
 "nbformat": 4,
 "nbformat_minor": 5
}
