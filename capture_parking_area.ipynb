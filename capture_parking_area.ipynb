{
 "cells": [
  {
   "cell_type": "code",
   "execution_count": 1,
   "id": "10f6e0e7",
   "metadata": {},
   "outputs": [],
   "source": [
    "import cv2"
   ]
  },
  {
   "cell_type": "code",
   "execution_count": 2,
   "id": "3315a26f",
   "metadata": {},
   "outputs": [],
   "source": [
    "camera = cv2.VideoCapture(\"parking1.mp4\")"
   ]
  },
  {
   "cell_type": "code",
   "execution_count": null,
   "id": "c331e4f4",
   "metadata": {},
   "outputs": [],
   "source": []
  },
  {
   "cell_type": "code",
   "execution_count": 3,
   "id": "bb80de76",
   "metadata": {},
   "outputs": [
    {
     "name": "stdout",
     "output_type": "stream",
     "text": [
      "[INFO] Initializing camera.\n",
      "[INFO] Saving 'parking_lot.png' ...\n",
      "[INFO] 'parking_lot.png' saved successfully!\n"
     ]
    }
   ],
   "source": [
    "print(\"[INFO] Initializing camera.\")\n",
    " \n",
    "cv2.namedWindow(\"Camera\")\n",
    "while True: \n",
    "    \n",
    "    ret, frame = camera.read()\n",
    "    \n",
    "    if not ret:\n",
    "        \n",
    "        print(\"[ERROR] Failed to initialize camera.\")\n",
    "        \n",
    "        break\n",
    "        \n",
    "        \n",
    "    frame=cv2.resize(frame,(1250,600))\n",
    "    cv2.imshow(\"Camera\", frame)\n",
    "    \n",
    "    key = cv2.waitKey(10)\n",
    "       \n",
    "    if key%256 == 27:\n",
    "        \n",
    "        # ESC\n",
    "        \n",
    "        print(\"[INFO] Camera terminated.\")\n",
    "        \n",
    "        break\n",
    "    \n",
    "    elif key%256 == 32:\n",
    "        \n",
    "        # SPACE \n",
    "        \n",
    "        img_name = \"parking_lot.png\"\n",
    "        \n",
    "        print(\"[INFO] Saving '{}' ...\".format(img_name))\n",
    "        \n",
    "        cv2.imwrite(img_name, frame)\n",
    "\n",
    "        print(\"[INFO] '{}' saved successfully!\".format(img_name))\n",
    "\n",
    "        camera.release()\n",
    "\n",
    "        cv2.destroyAllWindows() \n",
    "        \n",
    "        break"
   ]
  },
  {
   "cell_type": "code",
   "execution_count": null,
   "id": "f4aa768e",
   "metadata": {},
   "outputs": [],
   "source": []
  },
  {
   "cell_type": "code",
   "execution_count": null,
   "id": "cdfe61d4",
   "metadata": {},
   "outputs": [],
   "source": []
  },
  {
   "cell_type": "code",
   "execution_count": null,
   "id": "9fd6a25c",
   "metadata": {},
   "outputs": [],
   "source": []
  }
 ],
 "metadata": {
  "kernelspec": {
   "display_name": "Python 3 (ipykernel)",
   "language": "python",
   "name": "python3"
  },
  "language_info": {
   "codemirror_mode": {
    "name": "ipython",
    "version": 3
   },
   "file_extension": ".py",
   "mimetype": "text/x-python",
   "name": "python",
   "nbconvert_exporter": "python",
   "pygments_lexer": "ipython3",
   "version": "3.10.9"
  }
 },
 "nbformat": 4,
 "nbformat_minor": 5
}
